{
 "cells": [
  {
   "cell_type": "markdown",
   "id": "8a2268c1-8e0e-4245-b71e-a66a37b8af43",
   "metadata": {},
   "source": [
    "#ANSWER-1"
   ]
  },
  {
   "cell_type": "markdown",
   "id": "e9d9cf80-c336-418b-a6d5-f85ed6ba8466",
   "metadata": {},
   "source": [
    "MongoDB is a popular non-relational database that uses a document-oriented data model. \n",
    "Instead of using tables and rows, MongoDB stores data as flexible JSON-like documents with dynamic schemas.\n",
    "This makes it easy to store and retrieve complex, hierarchical data structures and to scale horizontally across multiple servers.\n",
    "\n",
    "Non-relational databases, also known as NoSQL databases, are a class of databases that do not use the traditional tabular,\n",
    "relational data model used by SQL databases. Non-relational databases can store and manage data in a variety of ways,\n",
    "including document-oriented, key-value, column-family, and graph-based data models.\n",
    "They are often used in scenarios where high scalability, flexibility, and performance are required, and where data is unstructured or semi-structured.\n",
    "\n",
    "MongoDB is preferred over SQL databases in scenarios where data is highly unstructured or has a variable schema, such as in content management systems, \n",
    "social networks, and IoT applications. MongoDB is also preferred in scenarios where high write throughput and horizontal scalability are required,\n",
    "as it can easily shard data across multiple servers. SQL databases, on the other hand, \n",
    "are preferred in scenarios where data is highly structured and where complex queries and joins are required, \n",
    "such as in financial systems and e-commerce applications."
   ]
  },
  {
   "cell_type": "markdown",
   "id": "6a32d0dc-7f0c-481b-b850-b3eddd56183b",
   "metadata": {},
   "source": [
    "#ANSWER-2"
   ]
  },
  {
   "cell_type": "markdown",
   "id": "cd0e3d71-49d3-4960-912e-b395039a31f9",
   "metadata": {},
   "source": [
    "MongoDB is a popular NoSQL database that offers a range of features and benefits, \n",
    "including:\n",
    "\n",
    "Document-Oriented: MongoDB stores data in flexible JSON-like documents, making it easy to work with hierarchical and semi-structured data.\n",
    "High Performance: MongoDB uses memory mapped files to provide high performance and low latency, and can handle large volumes of data with ease.\n",
    "Horizontal Scalability: MongoDB can easily scale horizontally across multiple servers, allowing for easy distribution of data and workload.\n",
    "Indexing and Querying: MongoDB provides robust indexing and querying capabilities, including support for secondary indexes,\n",
    "full-text search, and geospatial indexes.\n",
    "Flexible Data Model: MongoDB's flexible data model allows for easy schema changes and supports dynamic fields and nested documents.\n",
    "Aggregation Framework: MongoDB's aggregation framework allows for complex data analysis and aggregation, including support for grouping, filtering, and mapping data.\n",
    "Transactions: MongoDB supports multi-document transactions, allowing for atomicity and consistency across multiple operations.\n",
    "High Availability: MongoDB provides high availability through replica sets, which automatically handle failover and ensure data consistency.\n",
    "Auto-Sharding: MongoDB can automatically shard data across multiple servers, making it easy to scale horizontally and distribute data across a cluster.\n",
    "Overall, MongoDB's features make it a popular choice for modern applications that require flexible data models, high performance, and scalability."
   ]
  },
  {
   "cell_type": "markdown",
   "id": "eb876c38-3dcb-4a16-9aa2-516dc78ff9b4",
   "metadata": {},
   "source": [
    "ANSWER-3"
   ]
  },
  {
   "cell_type": "code",
   "execution_count": null,
   "id": "991a9b6f-9573-4822-a9da-f43624f1096f",
   "metadata": {},
   "outputs": [],
   "source": [
    "# Import necessary libraries\n",
    "import pymongo\n",
    "\n",
    "# Connect to MongoDB client\n",
    "client = pymongo.MongoClient(\"mongodb://localhost:27017/\")\n",
    "\n",
    "# Create a database\n",
    "mydb = client[\"mydatabase\"]\n",
    "\n",
    "# Create a collection\n",
    "mycol = mydb[\"customers\"]\n"
   ]
  },
  {
   "cell_type": "markdown",
   "id": "f88af547-9049-4dfc-9423-d92538e42385",
   "metadata": {},
   "source": [
    "In this code snippet, we import the pymongo library, which is the official Python driver for MongoDB.\n",
    "Then, we connect to the MongoDB client running on the local machine at the default port of 27017 using the MongoClient class.\n",
    "We create a new database named \"mydatabase\" using the client object and assign it to the mydb variable.\n",
    "\n",
    "Finally, we create a new collection named \"customers\" in the \"mydatabase\" database using the mydb object and assign it to the mycol variable."
   ]
  },
  {
   "cell_type": "markdown",
   "id": "98c45bc5-0698-4a1f-af5d-89d5924cab7f",
   "metadata": {},
   "source": [
    "ANSWER-4"
   ]
  },
  {
   "cell_type": "code",
   "execution_count": null,
   "id": "098a6c73-9700-4799-b4c9-481e19ce3a8a",
   "metadata": {},
   "outputs": [],
   "source": [
    "# Import necessary libraries\n",
    "import pymongo\n",
    "\n",
    "# Connect to MongoDB client\n",
    "client = pymongo.MongoClient(\"mongodb://localhost:27017/\")\n",
    "\n",
    "# Create a database\n",
    "mydb = client[\"mydatabase\"]\n",
    "\n",
    "# Create a collection\n",
    "mycol = mydb[\"customers\"]\n",
    "\n",
    "# Insert one record\n",
    "mydict = { \"name\": \"John\", \"address\": \"Highway 37\" }\n",
    "x = mycol.insert_one(mydict)\n",
    "print(x.inserted_id)\n",
    "\n",
    "# Insert many records\n",
    "mylist = [\n",
    "  { \"name\": \"Peter\", \"address\": \"Lowstreet 27\" },\n",
    "  { \"name\": \"Amy\", \"address\": \"Apple st 652\" },\n",
    "  { \"name\": \"Hannah\", \"address\": \"Mountain 21\" },\n",
    "  { \"name\": \"Michael\", \"address\": \"Valley 345\" },\n",
    "  { \"name\": \"Sandy\", \"address\": \"Ocean blvd 2\" },\n",
    "  { \"name\": \"Betty\", \"address\": \"Green Grass 1\" },\n",
    "  { \"name\": \"Richard\", \"address\": \"Sky st 331\" },\n",
    "  { \"name\": \"Susan\", \"address\": \"One way 98\" },\n",
    "  { \"name\": \"Vicky\", \"address\": \"Yellow Garden 2\" },\n",
    "  { \"name\": \"Ben\", \"address\": \"Park Lane 38\" },\n",
    "  { \"name\": \"William\", \"address\": \"Central st 954\" },\n",
    "  { \"name\": \"Chuck\", \"address\": \"Main Road 989\" },\n",
    "  { \"name\": \"Viola\", \"address\": \"Sideway 1633\" }\n",
    "]\n",
    "y = mycol.insert_many(mylist)\n",
    "print(y.inserted_ids)\n",
    "\n",
    "# Print the inserted record using find_one() method\n",
    "print(mycol.find_one({\"_id\": x.inserted_id}))\n",
    "\n",
    "# Print all inserted records using find() method\n",
    "for record in mycol.find():\n",
    "    print(record)\n"
   ]
  },
  {
   "cell_type": "markdown",
   "id": "d6a96535-8041-4bc6-a3fd-0b5e4572bafa",
   "metadata": {},
   "source": [
    "In this code snippet, we first connect to the MongoDB client, create a database named \"mydatabase\", and create a collection named \"customers\".\n",
    "We then insert one record and many records into the \"customers\" collection using the insert_one() and insert_many() methods, respectively.\n",
    "We print the _id values of the inserted records to the console.\n",
    "\n",
    "To print the inserted record using the find_one() method, we pass a dictionary with the _id field and the value of the _id of the record\n",
    "we inserted using insert_one() method. To print all inserted records using the find() method,\n",
    "we iterate over the cursor object returned by find() method and print each record to the console."
   ]
  },
  {
   "cell_type": "markdown",
   "id": "6261baf2-9b76-45df-828b-f322cb49e548",
   "metadata": {},
   "source": [
    "ANSWER-5"
   ]
  },
  {
   "cell_type": "code",
   "execution_count": null,
   "id": "71d2f540-7b4c-47d6-9dbe-75f387acf22b",
   "metadata": {},
   "outputs": [],
   "source": [
    "The find() method is used to query a MongoDB database to retrieve documents that match the specified criteria.\n",
    "This method takes a query object as its parameter and returns a cursor that points to the matching documents.\n",
    "You can also pass in options such as projection, sorting, and limiting to further customize the returned results."
   ]
  },
  {
   "cell_type": "code",
   "execution_count": null,
   "id": "6450c08b-c346-4531-a397-2c6e74652ebb",
   "metadata": {},
   "outputs": [],
   "source": [
    "# import the necessary libraries\n",
    "from pymongo import MongoClient\n",
    "\n",
    "# establish a connection to MongoDB\n",
    "client = MongoClient(\"mongodb://localhost:27017/\")\n",
    "\n",
    "# access the database\n",
    "db = client[\"mydatabase\"]\n",
    "\n",
    "# access the collection\n",
    "collection = db[\"mycollection\"]\n",
    "\n",
    "# query the collection\n",
    "query = {\"name\": \"John Doe\"}\n",
    "results = collection.find(query)\n",
    "\n",
    "# print the results\n",
    "for result in results:\n",
    "    print(result)\n"
   ]
  },
  {
   "cell_type": "markdown",
   "id": "0b03dad4-9499-4a28-9c05-65a00d792841",
   "metadata": {},
   "source": [
    "ANSWER-6"
   ]
  },
  {
   "cell_type": "code",
   "execution_count": null,
   "id": "e34ce41c-7642-4a87-8bb5-c6fffe5c5314",
   "metadata": {},
   "outputs": [],
   "source": [
    "The sort() method in MongoDB is used to sort the documents in a collection based on one or more fields.\n",
    "It takes a sort object as its parameter, which specifies the fields to sort on and the direction of the sort (ascending or descending).\n",
    "\n",
    "The sort object is a dictionary that contains one or more key-value pairs, where the key is the field to sort on and the value\n",
    "is either 1 for ascending order or -1 for descending order."
   ]
  },
  {
   "cell_type": "code",
   "execution_count": null,
   "id": "04bbfccb-b123-4529-a01a-edc20427a4a8",
   "metadata": {},
   "outputs": [],
   "source": [
    "# import the necessary libraries\n",
    "from pymongo import MongoClient\n",
    "\n",
    "# establish a connection to MongoDB\n",
    "client = MongoClient(\"mongodb://localhost:27017/\")\n",
    "\n",
    "# access the database\n",
    "db = client[\"mydatabase\"]\n",
    "\n",
    "# access the collection\n",
    "collection = db[\"students\"]\n",
    "\n",
    "# sort the documents by age in ascending order\n",
    "results = collection.find().sort(\"age\", 1)\n",
    "\n",
    "# print the sorted results\n",
    "for result in results:\n",
    "    print(result)\n"
   ]
  },
  {
   "cell_type": "markdown",
   "id": "1c9e02f0-66c3-4dda-bbcd-84b69cf2e29b",
   "metadata": {},
   "source": [
    "ANSWER-7"
   ]
  },
  {
   "cell_type": "code",
   "execution_count": null,
   "id": "82affcf1-9681-4e63-b030-5f7a67c333eb",
   "metadata": {},
   "outputs": [],
   "source": [
    "delete_one(): This method is used to remove a single document that matches a specified filter.\n",
    "If there are multiple documents that match the filter, only the first one will be deleted.\n",
    "\n",
    "delete_many(): This method is used to remove multiple documents that match a specified filter.\n",
    "\n",
    "Both delete_one() and delete_many() methods take a filter object as their parameter, \n",
    "which specifies the criteria for selecting the documents to be deleted."
   ]
  },
  {
   "cell_type": "code",
   "execution_count": null,
   "id": "4da40c72-54ae-4e46-8cae-540654f89de7",
   "metadata": {},
   "outputs": [],
   "source": [
    "# import the necessary libraries\n",
    "from pymongo import MongoClient\n",
    "\n",
    "# establish a connection to MongoDB\n",
    "client = MongoClient(\"mongodb://localhost:27017/\")\n",
    "\n",
    "# access the database\n",
    "db = client[\"mydatabase\"]\n",
    "\n",
    "# access the collection\n",
    "collection = db[\"mycollection\"]\n",
    "\n",
    "# delete a single document\n",
    "collection.delete_one({\"name\": \"John Doe\"})\n",
    "\n",
    "# delete multiple documents\n",
    "collection.delete_many({\"age\": {\"$gt\": 30}})\n"
   ]
  },
  {
   "cell_type": "code",
   "execution_count": null,
   "id": "624f6eca-c3d5-4f06-a6af-f09d436e2e11",
   "metadata": {},
   "outputs": [],
   "source": [
    "# import the necessary libraries\n",
    "from pymongo import MongoClient\n",
    "\n",
    "# establish a connection to MongoDB\n",
    "client = MongoClient(\"mongodb://localhost:27017/\")\n",
    "\n",
    "# access the database\n",
    "db = client[\"mydatabase\"]\n",
    "\n",
    "# drop the collection\n",
    "db[\"mycollection\"].drop()\n"
   ]
  }
 ],
 "metadata": {
  "kernelspec": {
   "display_name": "Python 3 (ipykernel)",
   "language": "python",
   "name": "python3"
  },
  "language_info": {
   "codemirror_mode": {
    "name": "ipython",
    "version": 3
   },
   "file_extension": ".py",
   "mimetype": "text/x-python",
   "name": "python",
   "nbconvert_exporter": "python",
   "pygments_lexer": "ipython3",
   "version": "3.10.8"
  }
 },
 "nbformat": 4,
 "nbformat_minor": 5
}
